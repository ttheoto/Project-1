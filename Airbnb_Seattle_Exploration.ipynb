{
 "cells": [
  {
   "cell_type": "markdown",
   "metadata": {},
   "source": [
    "## Business + Data Understanding\n",
    "\n",
    "Gather necessary data to answer your questions\n",
    "\n",
    "Handle categorical and missing data\n",
    "\n",
    "Provide insight into the methods you chose and why you chose them"
   ]
  },
  {
   "cell_type": "code",
   "execution_count": 85,
   "metadata": {},
   "outputs": [],
   "source": [
    "import numpy as np\n",
    "import pandas as pd\n",
    "import matplotlib.pyplot as plt\n",
    "from sklearn.linear_model import LinearRegression\n",
    "from sklearn.model_selection import train_test_split\n",
    "from sklearn.metrics import r2_score, mean_squared_error\n",
    "import seaborn as sns\n",
    "%matplotlib inline\n",
    "\n",
    "listing_df = pd.read_csv('./listings_seattle.csv')\n",
    "calendar_df = pd.read_csv('./calendar_seattle.csv')\n",
    "reviews_df = pd.read_csv('./reviews_seattle.csv')"
   ]
  },
  {
   "cell_type": "markdown",
   "metadata": {},
   "source": [
    "### Understanding the data\n",
    "\n",
    "We'll start with the listing_df"
   ]
  },
  {
   "cell_type": "code",
   "execution_count": 86,
   "metadata": {},
   "outputs": [
    {
     "data": {
      "text/plain": [
       "(3818, 92)"
      ]
     },
     "execution_count": 86,
     "metadata": {},
     "output_type": "execute_result"
    }
   ],
   "source": [
    "listing_df.shape"
   ]
  },
  {
   "cell_type": "code",
   "execution_count": 87,
   "metadata": {
    "collapsed": true
   },
   "outputs": [
    {
     "data": {
      "text/plain": [
       "Index(['id', 'listing_url', 'scrape_id', 'last_scraped', 'name', 'summary',\n",
       "       'space', 'description', 'experiences_offered', 'neighborhood_overview',\n",
       "       'notes', 'transit', 'thumbnail_url', 'medium_url', 'picture_url',\n",
       "       'xl_picture_url', 'host_id', 'host_url', 'host_name', 'host_since',\n",
       "       'host_location', 'host_about', 'host_response_time',\n",
       "       'host_response_rate', 'host_acceptance_rate', 'host_is_superhost',\n",
       "       'host_thumbnail_url', 'host_picture_url', 'host_neighbourhood',\n",
       "       'host_listings_count', 'host_total_listings_count',\n",
       "       'host_verifications', 'host_has_profile_pic', 'host_identity_verified',\n",
       "       'street', 'neighbourhood', 'neighbourhood_cleansed',\n",
       "       'neighbourhood_group_cleansed', 'city', 'state', 'zipcode', 'market',\n",
       "       'smart_location', 'country_code', 'country', 'latitude', 'longitude',\n",
       "       'is_location_exact', 'property_type', 'room_type', 'accommodates',\n",
       "       'bathrooms', 'bedrooms', 'beds', 'bed_type', 'amenities', 'square_feet',\n",
       "       'price', 'weekly_price', 'monthly_price', 'security_deposit',\n",
       "       'cleaning_fee', 'guests_included', 'extra_people', 'minimum_nights',\n",
       "       'maximum_nights', 'calendar_updated', 'has_availability',\n",
       "       'availability_30', 'availability_60', 'availability_90',\n",
       "       'availability_365', 'calendar_last_scraped', 'number_of_reviews',\n",
       "       'first_review', 'last_review', 'review_scores_rating',\n",
       "       'review_scores_accuracy', 'review_scores_cleanliness',\n",
       "       'review_scores_checkin', 'review_scores_communication',\n",
       "       'review_scores_location', 'review_scores_value', 'requires_license',\n",
       "       'license', 'jurisdiction_names', 'instant_bookable',\n",
       "       'cancellation_policy', 'require_guest_profile_picture',\n",
       "       'require_guest_phone_verification', 'calculated_host_listings_count',\n",
       "       'reviews_per_month'],\n",
       "      dtype='object')"
      ]
     },
     "execution_count": 87,
     "metadata": {},
     "output_type": "execute_result"
    }
   ],
   "source": [
    "listing_df.columns"
   ]
  },
  {
   "cell_type": "code",
   "execution_count": 88,
   "metadata": {},
   "outputs": [
    {
     "data": {
      "text/plain": [
       "{'None',\n",
       " \"['email', 'facebook', 'google', 'linkedin', 'reviews', 'kba']\",\n",
       " \"['email', 'facebook', 'reviews', 'jumio']\",\n",
       " \"['email', 'facebook', 'reviews', 'kba']\",\n",
       " \"['email', 'facebook', 'reviews']\",\n",
       " \"['email', 'facebook']\",\n",
       " \"['email', 'linkedin', 'reviews', 'jumio']\",\n",
       " \"['email', 'phone', 'facebook', 'amex', 'reviews', 'jumio']\",\n",
       " \"['email', 'phone', 'facebook', 'amex', 'reviews', 'kba']\",\n",
       " \"['email', 'phone', 'facebook', 'google', 'amex', 'reviews', 'jumio']\",\n",
       " \"['email', 'phone', 'facebook', 'google', 'jumio']\",\n",
       " \"['email', 'phone', 'facebook', 'google', 'kba']\",\n",
       " \"['email', 'phone', 'facebook', 'google', 'linkedin', 'amex', 'reviews', 'jumio']\",\n",
       " \"['email', 'phone', 'facebook', 'google', 'linkedin', 'amex', 'reviews', 'kba']\",\n",
       " \"['email', 'phone', 'facebook', 'google', 'linkedin', 'kba']\",\n",
       " \"['email', 'phone', 'facebook', 'google', 'linkedin', 'reviews', 'jumio', 'kba']\",\n",
       " \"['email', 'phone', 'facebook', 'google', 'linkedin', 'reviews', 'jumio']\",\n",
       " \"['email', 'phone', 'facebook', 'google', 'linkedin', 'reviews', 'kba', 'photographer']\",\n",
       " \"['email', 'phone', 'facebook', 'google', 'linkedin', 'reviews', 'kba']\",\n",
       " \"['email', 'phone', 'facebook', 'google', 'linkedin', 'reviews']\",\n",
       " \"['email', 'phone', 'facebook', 'google', 'reviews', 'jumio', 'kba']\",\n",
       " \"['email', 'phone', 'facebook', 'google', 'reviews', 'jumio']\",\n",
       " \"['email', 'phone', 'facebook', 'google', 'reviews', 'kba']\",\n",
       " \"['email', 'phone', 'facebook', 'google', 'reviews']\",\n",
       " \"['email', 'phone', 'facebook', 'google']\",\n",
       " \"['email', 'phone', 'facebook', 'jumio', 'kba']\",\n",
       " \"['email', 'phone', 'facebook', 'jumio']\",\n",
       " \"['email', 'phone', 'facebook', 'kba']\",\n",
       " \"['email', 'phone', 'facebook', 'linkedin', 'amex', 'reviews', 'jumio', 'kba']\",\n",
       " \"['email', 'phone', 'facebook', 'linkedin', 'amex', 'reviews', 'kba']\",\n",
       " \"['email', 'phone', 'facebook', 'linkedin', 'jumio']\",\n",
       " \"['email', 'phone', 'facebook', 'linkedin', 'kba']\",\n",
       " \"['email', 'phone', 'facebook', 'linkedin', 'reviews', 'jumio', 'kba']\",\n",
       " \"['email', 'phone', 'facebook', 'linkedin', 'reviews', 'jumio']\",\n",
       " \"['email', 'phone', 'facebook', 'linkedin', 'reviews', 'kba']\",\n",
       " \"['email', 'phone', 'facebook', 'linkedin', 'reviews']\",\n",
       " \"['email', 'phone', 'facebook', 'linkedin']\",\n",
       " \"['email', 'phone', 'facebook', 'manual_offline', 'jumio']\",\n",
       " \"['email', 'phone', 'facebook', 'reviews', 'jumio', 'kba']\",\n",
       " \"['email', 'phone', 'facebook', 'reviews', 'jumio', 'photographer']\",\n",
       " \"['email', 'phone', 'facebook', 'reviews', 'jumio']\",\n",
       " \"['email', 'phone', 'facebook', 'reviews', 'kba']\",\n",
       " \"['email', 'phone', 'facebook', 'reviews', 'manual_offline', 'jumio', 'kba']\",\n",
       " \"['email', 'phone', 'facebook', 'reviews', 'manual_offline', 'jumio']\",\n",
       " \"['email', 'phone', 'facebook', 'reviews', 'manual_offline']\",\n",
       " \"['email', 'phone', 'facebook', 'reviews', 'sent_id', 'kba']\",\n",
       " \"['email', 'phone', 'facebook', 'reviews']\",\n",
       " \"['email', 'phone', 'facebook']\",\n",
       " \"['email', 'phone', 'google', 'jumio']\",\n",
       " \"['email', 'phone', 'google', 'kba']\",\n",
       " \"['email', 'phone', 'google', 'linkedin', 'amex', 'reviews', 'kba']\",\n",
       " \"['email', 'phone', 'google', 'linkedin', 'jumio']\",\n",
       " \"['email', 'phone', 'google', 'linkedin', 'kba']\",\n",
       " \"['email', 'phone', 'google', 'linkedin', 'reviews', 'jumio', 'kba']\",\n",
       " \"['email', 'phone', 'google', 'linkedin', 'reviews', 'jumio']\",\n",
       " \"['email', 'phone', 'google', 'linkedin', 'reviews', 'kba']\",\n",
       " \"['email', 'phone', 'google', 'linkedin', 'reviews', 'manual_offline', 'jumio']\",\n",
       " \"['email', 'phone', 'google', 'linkedin', 'reviews']\",\n",
       " \"['email', 'phone', 'google', 'reviews', 'jumio', 'kba']\",\n",
       " \"['email', 'phone', 'google', 'reviews', 'jumio']\",\n",
       " \"['email', 'phone', 'google', 'reviews', 'kba']\",\n",
       " \"['email', 'phone', 'google', 'reviews', 'weibo', 'jumio']\",\n",
       " \"['email', 'phone', 'google', 'reviews']\",\n",
       " \"['email', 'phone', 'google']\",\n",
       " \"['email', 'phone', 'jumio']\",\n",
       " \"['email', 'phone', 'kba']\",\n",
       " \"['email', 'phone', 'linkedin', 'amex', 'jumio']\",\n",
       " \"['email', 'phone', 'linkedin', 'jumio', 'kba']\",\n",
       " \"['email', 'phone', 'linkedin', 'jumio']\",\n",
       " \"['email', 'phone', 'linkedin', 'kba']\",\n",
       " \"['email', 'phone', 'linkedin', 'reviews', 'jumio', 'kba']\",\n",
       " \"['email', 'phone', 'linkedin', 'reviews', 'jumio']\",\n",
       " \"['email', 'phone', 'linkedin', 'reviews', 'kba']\",\n",
       " \"['email', 'phone', 'linkedin', 'reviews', 'manual_offline', 'jumio']\",\n",
       " \"['email', 'phone', 'linkedin', 'reviews', 'manual_offline', 'sent_id', 'kba']\",\n",
       " \"['email', 'phone', 'linkedin', 'reviews']\",\n",
       " \"['email', 'phone', 'manual_online', 'facebook', 'reviews', 'manual_offline', 'sent_id']\",\n",
       " \"['email', 'phone', 'manual_online', 'facebook', 'reviews', 'manual_offline']\",\n",
       " \"['email', 'phone', 'manual_online', 'reviews', 'jumio']\",\n",
       " \"['email', 'phone', 'manual_online', 'reviews', 'kba']\",\n",
       " \"['email', 'phone', 'manual_online', 'reviews', 'manual_offline', 'jumio']\",\n",
       " \"['email', 'phone', 'manual_online', 'reviews', 'manual_offline', 'kba']\",\n",
       " \"['email', 'phone', 'manual_online', 'reviews', 'manual_offline', 'sent_id']\",\n",
       " \"['email', 'phone', 'manual_online', 'reviews', 'manual_offline']\",\n",
       " \"['email', 'phone', 'reviews', 'jumio', 'kba']\",\n",
       " \"['email', 'phone', 'reviews', 'jumio']\",\n",
       " \"['email', 'phone', 'reviews', 'kba']\",\n",
       " \"['email', 'phone', 'reviews', 'manual_offline', 'jumio', 'kba']\",\n",
       " \"['email', 'phone', 'reviews', 'manual_offline', 'jumio']\",\n",
       " \"['email', 'phone', 'reviews', 'manual_offline', 'kba']\",\n",
       " \"['email', 'phone', 'reviews', 'manual_offline']\",\n",
       " \"['email', 'phone', 'reviews', 'sent_id', 'kba']\",\n",
       " \"['email', 'phone', 'reviews', 'sent_id']\",\n",
       " \"['email', 'phone', 'reviews']\",\n",
       " \"['email', 'phone']\",\n",
       " \"['email', 'reviews', 'jumio']\",\n",
       " \"['email', 'reviews', 'kba']\",\n",
       " \"['email', 'reviews']\",\n",
       " \"['email']\",\n",
       " \"['google', 'jumio']\",\n",
       " \"['phone', 'facebook', 'google', 'linkedin', 'reviews', 'jumio']\",\n",
       " \"['phone', 'facebook', 'google']\",\n",
       " \"['phone', 'facebook', 'jumio']\",\n",
       " \"['phone', 'facebook', 'linkedin', 'reviews']\",\n",
       " \"['phone', 'facebook', 'reviews', 'jumio']\",\n",
       " \"['phone', 'facebook', 'reviews', 'kba']\",\n",
       " \"['phone', 'facebook', 'reviews']\",\n",
       " \"['phone', 'facebook']\",\n",
       " \"['phone', 'linkedin', 'reviews', 'kba']\",\n",
       " \"['phone', 'linkedin', 'reviews']\",\n",
       " \"['phone', 'reviews', 'jumio']\",\n",
       " \"['phone', 'reviews', 'kba']\",\n",
       " \"['phone', 'reviews']\",\n",
       " \"['phone']\",\n",
       " \"['reviews']\",\n",
       " '[]'}"
      ]
     },
     "execution_count": 88,
     "metadata": {},
     "output_type": "execute_result"
    }
   ],
   "source": [
    "set(listing_df['host_verifications'])"
   ]
  },
  {
   "cell_type": "markdown",
   "metadata": {},
   "source": [
    "### Feature Classification"
   ]
  },
  {
   "cell_type": "code",
   "execution_count": null,
   "metadata": {},
   "outputs": [],
   "source": [
    "#General Information\n",
    "gen_cols = ['id', 'name']\n",
    "\n",
    "#text description\n",
    "text_cols = ['summary', 'space', 'description', 'neighborhood_overview', 'notes', 'transit']\n",
    "\n",
    "#host info\n",
    "host_cols = ['host_id', 'host_url', 'host_name', 'host_since',\n",
    "       'host_location', 'host_about', 'host_response_time',\n",
    "       'host_response_rate', 'host_acceptance_rate', 'host_is_superhost',\n",
    "       'host_thumbnail_url', 'host_picture_url', 'host_neighbourhood',\n",
    "       'host_listings_count', 'host_total_listings_count',\n",
    "       'host_verifications', 'host_has_profile_pic', 'host_identity_verified']\n",
    "\n",
    "#location info\n",
    "loc_cols = ['street', 'neighbourhood', 'neighbourhood_cleansed',\n",
    "       'neighbourhood_group_cleansed', 'city', 'state', 'zipcode', \n",
    "       'smart_location', 'latitude', 'longitude',\n",
    "       'is_location_exact']\n",
    "\n",
    "#apartment info\n",
    "apt_cols = ['property_type', 'room_type', 'accommodates',\n",
    "       'bathrooms', 'bedrooms', 'beds', 'bed_type', 'amenities', 'square_feet']\n",
    "\n",
    "#price info\n",
    "price_cols = ['price', 'weekly_price', 'monthly_price', 'security_deposit',\n",
    "       'cleaning_fee', 'guests_included', 'extra_people']\n",
    "\n",
    "#availability\n",
    "aval_cols = ['minimum_nights', 'maximum_nights', 'calendar_updated', \n",
    "       'availability_30', 'availability_60', 'availability_90',\n",
    "       'availability_365']\n",
    "\n",
    "#reviews - satisfaction\n",
    "rev_cols = ['number_of_reviews', \n",
    "       'first_review', 'last_review', 'review_scores_rating',\n",
    "       'review_scores_accuracy', 'review_scores_cleanliness',\n",
    "       'review_scores_checkin', 'review_scores_communication',\n",
    "       'review_scores_location', 'review_scores_value', 'reviews_per_month']\n",
    "\n",
    "#booking\n",
    "book_cols = ['instant_bookable', 'cancellation_policy', 'require_guest_profile_picture',\n",
    "       'require_guest_phone_verification']\n"
   ]
  },
  {
   "cell_type": "markdown",
   "metadata": {},
   "source": [
    "### Cleaning the data"
   ]
  },
  {
   "cell_type": "code",
   "execution_count": 63,
   "metadata": {},
   "outputs": [],
   "source": [
    "#Identifying and dropping columns with only one value\n",
    "\n",
    "uni_cols = []\n",
    "\n",
    "for col in listing_df.columns:\n",
    "    if len(listing_df[col].unique()) == 1:\n",
    "        uni_cols.append(col)\n",
    "        listing_df = listing_df.drop(columns=[col])"
   ]
  },
  {
   "cell_type": "code",
   "execution_count": 82,
   "metadata": {},
   "outputs": [
    {
     "name": "stdout",
     "output_type": "stream",
     "text": [
      "The column neighborhood_overview has 27.0% of missing values\n",
      "The column notes has 42.1% of missing values\n",
      "The column square_feet has 97.5% of missing values\n",
      "The column weekly_price has 47.4% of missing values\n",
      "The column monthly_price has 60.3% of missing values\n",
      "The column security_deposit has 51.1% of missing values\n",
      "The column cleaning_fee has 27.0% of missing values\n"
     ]
    }
   ],
   "source": [
    "#Checking for columns with > 25% missing values\n",
    "\n",
    "for col in listing_df.columns:\n",
    "    if listing_df[col].isnull().mean() > 0.25:\n",
    "        print(\"The column {} has {:.1f}% of missing values\".format(col , 100*listing_df[col].isnull().mean()))"
   ]
  },
  {
   "cell_type": "code",
   "execution_count": 9,
   "metadata": {},
   "outputs": [
    {
     "data": {
      "text/plain": [
       "Index(['id', 'listing_url', 'scrape_id', 'last_scraped', 'name', 'summary',\n",
       "       'space', 'description', 'experiences_offered', 'neighborhood_overview',\n",
       "       'notes', 'transit', 'thumbnail_url', 'medium_url', 'picture_url',\n",
       "       'xl_picture_url', 'host_id', 'host_url', 'host_name', 'host_since',\n",
       "       'host_location', 'host_about', 'host_response_time',\n",
       "       'host_response_rate', 'host_acceptance_rate', 'host_is_superhost',\n",
       "       'host_thumbnail_url', 'host_picture_url', 'host_neighbourhood',\n",
       "       'host_listings_count', 'host_total_listings_count',\n",
       "       'host_verifications', 'host_has_profile_pic', 'host_identity_verified',\n",
       "       'street', 'neighbourhood', 'neighbourhood_cleansed',\n",
       "       'neighbourhood_group_cleansed', 'city', 'state', 'zipcode', 'market',\n",
       "       'smart_location', 'country_code', 'country', 'latitude', 'longitude',\n",
       "       'is_location_exact', 'property_type', 'room_type', 'accommodates',\n",
       "       'bathrooms', 'bedrooms', 'beds', 'bed_type', 'amenities', 'square_feet',\n",
       "       'price', 'weekly_price', 'monthly_price', 'security_deposit',\n",
       "       'cleaning_fee', 'guests_included', 'extra_people', 'minimum_nights',\n",
       "       'maximum_nights', 'calendar_updated', 'has_availability',\n",
       "       'availability_30', 'availability_60', 'availability_90',\n",
       "       'availability_365', 'calendar_last_scraped', 'number_of_reviews',\n",
       "       'first_review', 'last_review', 'review_scores_rating',\n",
       "       'review_scores_accuracy', 'review_scores_cleanliness',\n",
       "       'review_scores_checkin', 'review_scores_communication',\n",
       "       'review_scores_location', 'review_scores_value', 'requires_license',\n",
       "       'license', 'jurisdiction_names', 'instant_bookable',\n",
       "       'cancellation_policy', 'require_guest_profile_picture',\n",
       "       'require_guest_phone_verification', 'calculated_host_listings_count',\n",
       "       'reviews_per_month'],\n",
       "      dtype='object')"
      ]
     },
     "execution_count": 9,
     "metadata": {},
     "output_type": "execute_result"
    }
   ],
   "source": [
    "listing_df.columns"
   ]
  },
  {
   "cell_type": "code",
   "execution_count": 50,
   "metadata": {
    "collapsed": true
   },
   "outputs": [
    {
     "data": {
      "text/plain": [
       "0        85.0\n",
       "1       150.0\n",
       "2       975.0\n",
       "3       100.0\n",
       "4       450.0\n",
       "        ...  \n",
       "3813    359.0\n",
       "3814     79.0\n",
       "3815     93.0\n",
       "3816     99.0\n",
       "3817     87.0\n",
       "Name: price, Length: 3818, dtype: float64"
      ]
     },
     "execution_count": 50,
     "metadata": {},
     "output_type": "execute_result"
    }
   ],
   "source": [
    "test = lambda x: float(x.replace('$', '').replace(',', ''))\n",
    "\n",
    "listing_df['price'].apply(test)"
   ]
  }
 ],
 "metadata": {
  "kernelspec": {
   "display_name": "Python 3",
   "language": "python",
   "name": "python3"
  },
  "language_info": {
   "codemirror_mode": {
    "name": "ipython",
    "version": 3
   },
   "file_extension": ".py",
   "mimetype": "text/x-python",
   "name": "python",
   "nbconvert_exporter": "python",
   "pygments_lexer": "ipython3",
   "version": "3.7.4"
  }
 },
 "nbformat": 4,
 "nbformat_minor": 2
}
